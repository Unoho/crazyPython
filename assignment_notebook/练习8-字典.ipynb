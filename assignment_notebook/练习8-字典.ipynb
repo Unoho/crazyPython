{
 "cells": [
  {
   "cell_type": "markdown",
   "id": "20b6b791",
   "metadata": {},
   "source": [
    "# 1.Python基础练习\n",
    "\n",
    "在游戏设计中，不同的对象各自具有不同的属性。飞机大战中plane类所具有的基本属性包含了image(图片)、rect(位置)、speed(速度)等。下面根据提示完成相应操作。"
   ]
  },
  {
   "cell_type": "code",
   "execution_count": 6,
   "id": "5ea8f5c4",
   "metadata": {},
   "outputs": [],
   "source": [
    "plane = {\n",
    "    'image':'.\\image\\enemy.png',\n",
    "    'rect':{'x':0,'y':0},\n",
    "    'speed': 10\n",
    "}"
   ]
  },
  {
   "cell_type": "markdown",
   "id": "afb479fc",
   "metadata": {},
   "source": [
    "编写代码完成以下任务：\n",
    "\n",
    "（1）输出plane对象的属性数量\n",
    "\n",
    "（2）将'image'的值修改为'.\\image\\hero.png'\n",
    "\n",
    "（3）将'speed'的值修改为12\n",
    "\n",
    "（4）将plane的x坐标修改为50、y坐标修改为100\n",
    "\n",
    "（5）查询blood的值，如果不存在就添加一个键，值为100"
   ]
  },
  {
   "cell_type": "code",
   "execution_count": null,
   "id": "99d028ac",
   "metadata": {},
   "outputs": [],
   "source": [
    "# Todo 在此处开始撰写你的代码\n"
   ]
  },
  {
   "cell_type": "markdown",
   "id": "a711a52a",
   "metadata": {},
   "source": [
    "# 2.Python进阶练习\n",
    "\n",
    "（1）找到b值。字典D中有17个键值对，每个键值对以（a,b）:v的方式存储，要求编写一段程序，找出满足a=10,v=1条件时b的值。"
   ]
  },
  {
   "cell_type": "code",
   "execution_count": 1,
   "id": "b6ac521b",
   "metadata": {},
   "outputs": [],
   "source": [
    "D = {(4, 7): 0, (2, 6): 1, (10, 4): 1, (5, 11): 1, (4, 5): 1,\n",
    "(2, 8): 0, (8, 11): 0, (10, 0): 1, (6, 11): 1, (9, 11): 1,\n",
    "(1, 9): 0, (10, 1): 0, (7, 11): 1, (0, 9): 1, (3, 7): 1,\n",
    "(10, 3): 1, (10, 2): 1}"
   ]
  },
  {
   "cell_type": "code",
   "execution_count": null,
   "id": "dd60c0c4",
   "metadata": {},
   "outputs": [],
   "source": [
    "# Todo 在此处开始撰写你的代码\n"
   ]
  },
  {
   "cell_type": "code",
   "execution_count": null,
   "id": "ec6808b1",
   "metadata": {},
   "outputs": [],
   "source": []
  }
 ],
 "metadata": {
  "kernelspec": {
   "display_name": "Python 3 (ipykernel)",
   "language": "python",
   "name": "python3"
  },
  "language_info": {
   "codemirror_mode": {
    "name": "ipython",
    "version": 3
   },
   "file_extension": ".py",
   "mimetype": "text/x-python",
   "name": "python",
   "nbconvert_exporter": "python",
   "pygments_lexer": "ipython3",
   "version": "3.11.5"
  }
 },
 "nbformat": 4,
 "nbformat_minor": 5
}
